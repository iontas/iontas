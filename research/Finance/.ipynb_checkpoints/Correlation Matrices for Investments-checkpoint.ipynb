{
 "cells": [
  {
   "cell_type": "markdown",
   "metadata": {},
   "source": [
    "# Using Correlation Matrix For Investment Decision"
   ]
  },
  {
   "cell_type": "markdown",
   "metadata": {},
   "source": [
    "## Abstract"
   ]
  },
  {
   "cell_type": "markdown",
   "metadata": {},
   "source": [
    "diversification, risk management and for portfolio development. It computes the strength of pairwise directional dependence among two time series data such as closing price of stocks. The tool is used for other analytical needs such as obtaining the largest eigenvalue of the matrix through the method called eigenvalue decomposition for use in Principal Component Analysis, and as a basic tool for Pairs trading strategy construction.  We are going to have a review of this tool and some of the issues that arises in application and how to solve them using industry established techniques."
   ]
  },
  {
   "cell_type": "markdown",
   "metadata": {},
   "source": [
    "## Introduction"
   ]
  },
  {
   "cell_type": "markdown",
   "metadata": {},
   "source": [
    "The space of correlation matrices (a positive symmetric semi-definite matrix with  unit diagonals and positive non decreasing sorted eigenvalues) define a subset of a unit hypercube called the Elliptope , hence the interchangeable name of correlation elliptope (correlation matrix). "
   ]
  },
  {
   "cell_type": "markdown",
   "metadata": {},
   "source": [
    "The mathematical representation of the above text is as follows,\n",
    "\n",
    "let $ \\xi = \\{C \\in \\mathbb R^{nxn} | C = C^T, \\forall_{i} \\in {1,...,n},C_{ii}=1, \\forall_{x} \\in \\mathbb R^n, x^TCx\\geq 0\\}$\n",
    "\n",
    "Representing a set of correlation matrices known as correlation elliptope."
   ]
  },
  {
   "cell_type": "markdown",
   "metadata": {},
   "source": [
    "The physical representation of the matrix is below, computed using Iontas python library for financial stocks analysis with the following properties. The range of the matrix is between [-1, 1] with the coefficient of -1 implying that data trend is in different directions, when one of the pair goes up the other of the pair goes down, in the diagram below it is symbolized by the dark black shaded box which are the following companies **TuSimple Holdings Inc** and **Pinduoduo Inc**, it is not easy to see **Pinduoduo Inc** as it name was omitted by the visualization framework during computations. The Netflix to Netflix correlation take a value of 1, satisfying the conditions of $C_{ii}=1$  The correlation of the stock to its self is 1."
   ]
  },
  {
   "cell_type": "markdown",
   "metadata": {},
   "source": [
    "<img src=\"./assets/correlation map.png\"\n",
    "     alt=\"Correlation Heat Map\"\n",
    "      />"
   ]
  },
  {
   "cell_type": "markdown",
   "metadata": {},
   "source": [
    "## Application"
   ]
  },
  {
   "cell_type": "markdown",
   "metadata": {},
   "source": [
    "Making use of the afore mentioned python library (Iontas) we can reproduce the above results using the local stocks csv data bundled with the library. Download the library to your computer if you want to follow along the article and also install python. The following code will retrieve the closing prices data of the stocks. "
   ]
  },
  {
   "cell_type": "markdown",
   "metadata": {},
   "source": [
    "<img src=\"./assets/dataacquisition.png\"\n",
    "     alt=\"Data Acquisitions\"\n",
    "      />"
   ]
  },
  {
   "cell_type": "markdown",
   "metadata": {},
   "source": [
    "below is the returned data head , tails and shoulders which is a n(12416) by p(27) rectangular matrix."
   ]
  }
 ],
 "metadata": {
  "kernelspec": {
   "display_name": "Python 3",
   "language": "python",
   "name": "python3"
  },
  "language_info": {
   "codemirror_mode": {
    "name": "ipython",
    "version": 3
   },
   "file_extension": ".py",
   "mimetype": "text/x-python",
   "name": "python",
   "nbconvert_exporter": "python",
   "pygments_lexer": "ipython3",
   "version": "3.7.6"
  }
 },
 "nbformat": 4,
 "nbformat_minor": 4
}
